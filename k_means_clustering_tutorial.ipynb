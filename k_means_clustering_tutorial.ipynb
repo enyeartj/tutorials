{
 "cells": [
  {
   "cell_type": "markdown",
   "metadata": {},
   "source": [
    "# K-Means Clustering Tutorial\n",
    "## Introduction\n",
    "K-means clustering is a basic machine learning algorithm for clustering data into groups based on some similarity measure such as distance. The k in k-means is the number of groups or clusters to be generated. So, k=2 means that we would be grouping the data into two clusters. The algorithm starts off with k points or vectors (often chosen at random) and each data point is then compared to each of these k points and grouped into a cluster based on which point it is closest or most similar to. Once these initial clusters are formed, the *mean* of each of the k clusters is then calculated. Then the process is repeated and each data point is once again grouped whatever mean from the k means that it is closest to. This process is repeated until the means no longer change between iterations.\n",
    "\n",
    "K-means clustering is pretty simple, yet is a very powerful tool for data science/analysis and machine learning. It is often used as a component of more complicated algorithms, such as [spectral clustering](http://www.informatik.uni-hamburg.de/ML/contents/people/luxburg/publications/Luxburg07_tutorial.pdf)."
   ]
  },
  {
   "cell_type": "markdown",
   "metadata": {},
   "source": [
    "## Example with k=2\n",
    "Let's use the simplest example of k=2. Below I have chosen some input points that can be easily grouped into two groups."
   ]
  },
  {
   "cell_type": "code",
   "execution_count": 1,
   "metadata": {
    "collapsed": false
   },
   "outputs": [
    {
     "name": "stdout",
     "output_type": "stream",
     "text": [
      "Populating the interactive namespace from numpy and matplotlib\n"
     ]
    },
    {
     "data": {
      "image/png": "[encoded data removed]",
      "text/plain": [
       "<matplotlib.figure.Figure at 0x1d60b240>"
      ]
     },
     "metadata": {},
     "output_type": "display_data"
    }
   ],
   "source": [
    "import numpy as np\n",
    "import seaborn as sns\n",
    "%pylab inline\n",
    "import matplotlib.pyplot as plt\n",
    "\n",
    "# Data to be clustered\n",
    "data = np.array([\n",
    "        [1,2],\n",
    "        [1,1],\n",
    "        [5,7],\n",
    "        [8,8],\n",
    "        [8,3],\n",
    "        [3,8],\n",
    "        [3,1],\n",
    "        [2,1],\n",
    "        [2,3],\n",
    "        [7,7],\n",
    "        [8,7]\n",
    "    ])\n",
    "\n",
    "plt.scatter(data[:,0], data[:,1])\n",
    "plt.show()"
   ]
  },
  {
   "cell_type": "markdown",
   "metadata": {},
   "source": [
    "Now, obviously it would be easy to group these points by hand, but this is a basic example. With a large dataset, it would be tedious and difficult to group all of the data by hand.\n",
    "\n",
    "So, let's get into the algorithm.\n",
    "\n",
    "### 1. Choose 2 random (ish) points to compare the data to"
   ]
  },
  {
   "cell_type": "code",
   "execution_count": 2,
   "metadata": {
    "collapsed": false
   },
   "outputs": [
    {
     "data": {
      "text/plain": [
       "<matplotlib.collections.PathCollection at 0x1d83cf98>"
      ]
     },
     "execution_count": 2,
     "metadata": {},
     "output_type": "execute_result"
    },
    {
     "data": {
      "image/png": "[encoded data removed]",
      "text/plain": [
       "<matplotlib.figure.Figure at 0x1d8b51d0>"
      ]
     },
     "metadata": {},
     "output_type": "display_data"
    }
   ],
   "source": [
    "c1 = np.array([4,8]) # Big red dot in the plot\n",
    "c2 = np.array([5,8]) # Big green dot in the plot\n",
    "\n",
    "plt.scatter(data[:,0], data[:,1])\n",
    "plt.scatter(c1[0], c1[1], s=100, c='r')\n",
    "plt.scatter(c2[0], c2[1], s=100, c='g')"
   ]
  },
  {
   "cell_type": "markdown",
   "metadata": {},
   "source": [
    "### 2. For each data point, find the distance to c1 and c2 and group according to which one it is closest to"
   ]
  },
  {
   "cell_type": "code",
   "execution_count": 3,
   "metadata": {
    "collapsed": false
   },
   "outputs": [
    {
     "data": {
      "text/plain": [
       "<matplotlib.text.Text at 0x1dcd2400>"
      ]
     },
     "execution_count": 3,
     "metadata": {},
     "output_type": "execute_result"
    },
    {
     "data": {
      "image/png": "[encoded data removed]",
      "text/plain": [
       "<matplotlib.figure.Figure at 0x1dc02828>"
      ]
     },
     "metadata": {},
     "output_type": "display_data"
    }
   ],
   "source": [
    "group1 = []\n",
    "group2 = []\n",
    "\n",
    "for point in data:\n",
    "    # Use the Euclidian distance between points to see which cluster center to choose\n",
    "    if np.linalg.norm(point - c1) < np.linalg.norm(point - c2):\n",
    "        group1.append(point)\n",
    "    else:\n",
    "        group2.append(point)\n",
    "\n",
    "group1 = np.array(group1)\n",
    "group2 = np.array(group2)\n",
    "\n",
    "g1 = plt.scatter(group1[:,0], group1[:,1], c='r')\n",
    "g2 = plt.scatter(group2[:,0], group2[:,1], c='g')\n",
    "gc1 = plt.scatter(c1[0], c1[1], s=100, c='r')\n",
    "gc2 = plt.scatter(c2[0], c2[1], s=100, c='g')\n",
    "\n",
    "legend = plt.legend((g1, gc1, g2, gc2),\n",
    "                    ('Group 1', 'C1', 'Group2', 'C2'),\n",
    "                    scatterpoints=1,\n",
    "                    loc='lower right',\n",
    "                    frameon=True)\n",
    "\n",
    "frame = legend.get_frame()\n",
    "frame.set_facecolor('white')\n",
    "\n",
    "plt.title('Clustering After First Iteration')"
   ]
  },
  {
   "cell_type": "markdown",
   "metadata": {},
   "source": [
    "### 3. Recalculate the cluster centers by taking the mean of each cluster"
   ]
  },
  {
   "cell_type": "code",
   "execution_count": 4,
   "metadata": {
    "collapsed": false
   },
   "outputs": [
    {
     "data": {
      "text/plain": [
       "<matplotlib.text.Text at 0x1df97668>"
      ]
     },
     "execution_count": 4,
     "metadata": {},
     "output_type": "execute_result"
    },
    {
     "data": {
      "image/png": "[encoded data removed]",
      "text/plain": [
       "<matplotlib.figure.Figure at 0x1dbf8ac8>"
      ]
     },
     "metadata": {},
     "output_type": "display_data"
    }
   ],
   "source": [
    "c1 = group1.mean(axis=0)\n",
    "c2 = group2.mean(axis=0)\n",
    "\n",
    "g1 = plt.scatter(group1[:,0], group1[:,1], c='r')\n",
    "g2 = plt.scatter(group2[:,0], group2[:,1], c='g')\n",
    "gc1 = plt.scatter(c1[0], c1[1], s=100, c='r')\n",
    "gc2 = plt.scatter(c2[0], c2[1], s=100, c='g')\n",
    "\n",
    "legend = plt.legend((g1, gc1, g2, gc2),\n",
    "                    ('Group 1', 'C1', 'Group2', 'C2'),\n",
    "                    scatterpoints=1,\n",
    "                    loc='lower right',\n",
    "                    frameon=True)\n",
    "\n",
    "frame = legend.get_frame()\n",
    "frame.set_facecolor('white')\n",
    "\n",
    "plt.title('Newly Calculated Cluster Centers')"
   ]
  },
  {
   "cell_type": "markdown",
   "metadata": {},
   "source": [
    "### 4. Recluster the data using the new cluster centers"
   ]
  },
  {
   "cell_type": "code",
   "execution_count": 5,
   "metadata": {
    "collapsed": false
   },
   "outputs": [
    {
     "data": {
      "text/plain": [
       "<matplotlib.text.Text at 0x1fcbc1d0>"
      ]
     },
     "execution_count": 5,
     "metadata": {},
     "output_type": "execute_result"
    },
    {
     "data": {
      "image/png": "[encoded data removed]",
      "text/plain": [
       "<matplotlib.figure.Figure at 0x1df8b2b0>"
      ]
     },
     "metadata": {},
     "output_type": "display_data"
    }
   ],
   "source": [
    "group1 = []\n",
    "group2 = []\n",
    "\n",
    "for point in data:\n",
    "    # Use the Euclidian distance between points to see which cluster center to choose\n",
    "    if np.linalg.norm(point - c1) < np.linalg.norm(point - c2):\n",
    "        group1.append(point)\n",
    "    else:\n",
    "        group2.append(point)\n",
    "\n",
    "group1 = np.array(group1)\n",
    "group2 = np.array(group2)\n",
    "\n",
    "g1 = plt.scatter(group1[:,0], group1[:,1], c='r')\n",
    "g2 = plt.scatter(group2[:,0], group2[:,1], c='g')\n",
    "gc1 = plt.scatter(c1[0], c1[1], s=100, c='r')\n",
    "gc2 = plt.scatter(c2[0], c2[1], s=100, c='g')\n",
    "\n",
    "legend = plt.legend((g1, gc1, g2, gc2),\n",
    "                    ('Group 1', 'C1', 'Group2', 'C2'),\n",
    "                    scatterpoints=1,\n",
    "                    loc='lower right',\n",
    "                    frameon=True)\n",
    "\n",
    "frame = legend.get_frame()\n",
    "frame.set_facecolor('white')\n",
    "\n",
    "plt.title('Clustering After Second Iteration')"
   ]
  },
  {
   "cell_type": "markdown",
   "metadata": {},
   "source": [
    "Although we have technically arrived at the final clusters with this iteration, we continue to repeat the process until the cluster centers no longer change.\n",
    "### 5. Repeat until cluster centers no longer change between iterations"
   ]
  },
  {
   "cell_type": "code",
   "execution_count": 6,
   "metadata": {
    "collapsed": false
   },
   "outputs": [
    {
     "data": {
      "text/plain": [
       "<matplotlib.text.Text at 0x1ff642b0>"
      ]
     },
     "execution_count": 6,
     "metadata": {},
     "output_type": "execute_result"
    },
    {
     "data": {
      "image/png": "[encoded data removed]",
      "text/plain": [
       "<matplotlib.figure.Figure at 0x1fcad7f0>"
      ]
     },
     "metadata": {},
     "output_type": "display_data"
    }
   ],
   "source": [
    "c1_old = c1\n",
    "c2_old = c2\n",
    "c1 = group1.mean(axis=0)\n",
    "c2 = group2.mean(axis=0)\n",
    "\n",
    "while not ((c1 == c1_old).all() and (c2 == c2_old).all()):\n",
    "    group1 = []\n",
    "    group2 = []\n",
    "\n",
    "    for point in data:\n",
    "        # Use the Euclidian distance between points to see which cluster center to choose\n",
    "        if np.linalg.norm(point - c1) < np.linalg.norm(point - c2):\n",
    "            group1.append(point)\n",
    "        else:\n",
    "            group2.append(point)\n",
    "\n",
    "    group1 = np.array(group1)\n",
    "    group2 = np.array(group2)\n",
    "    \n",
    "    c1_old = c1\n",
    "    c2_old = c2\n",
    "    c1 = group1.mean(axis=0)\n",
    "    c2 = group2.mean(axis=0)\n",
    "\n",
    "g1 = plt.scatter(group1[:,0], group1[:,1], c='r')\n",
    "g2 = plt.scatter(group2[:,0], group2[:,1], c='g')\n",
    "gc1 = plt.scatter(c1[0], c1[1], s=100, c='r')\n",
    "gc2 = plt.scatter(c2[0], c2[1], s=100, c='g')\n",
    "\n",
    "legend = plt.legend((g1, gc1, g2, gc2),\n",
    "                    ('Group 1', 'C1', 'Group2', 'C2'),\n",
    "                    scatterpoints=1,\n",
    "                    loc='lower right',\n",
    "                    frameon=True)\n",
    "\n",
    "frame = legend.get_frame()\n",
    "frame.set_facecolor('white')\n",
    "\n",
    "plt.title('Final Clustering and Cluster Centers')"
   ]
  },
  {
   "cell_type": "markdown",
   "metadata": {},
   "source": [
    "That's it! That's all there is to it!\n",
    "## The Easy Way\n",
    "Now that we know how the algorithm works, it's nice to know that SciPy already has [functions](http://docs.scipy.org/doc/scipy/reference/cluster.vq.html) to perform k-means clustering.\n",
    "\n",
    "Here's how it works with the [kmeans2](http://docs.scipy.org/doc/scipy/reference/generated/scipy.cluster.vq.kmeans2.html#scipy.cluster.vq.kmeans2) function using our same data from above:"
   ]
  },
  {
   "cell_type": "code",
   "execution_count": 7,
   "metadata": {
    "collapsed": false
   },
   "outputs": [],
   "source": [
    "from scipy.cluster.vq import kmeans2\n",
    "\n",
    "centers, labels = kmeans2(data.astype('float'), k=2)"
   ]
  },
  {
   "cell_type": "markdown",
   "metadata": {},
   "source": [
    "The kmeans2 function returns two things: centers which correspond to the final means of the groups and labels which map each input point to a group.\n",
    "\n",
    "Here are the centers that were returned:"
   ]
  },
  {
   "cell_type": "code",
   "execution_count": 8,
   "metadata": {
    "collapsed": false
   },
   "outputs": [
    {
     "name": "stdout",
     "output_type": "stream",
     "text": [
      "[[ 6.5         6.66666667]\n",
      " [ 1.8         1.6       ]]\n"
     ]
    }
   ],
   "source": [
    "print centers"
   ]
  },
  {
   "cell_type": "markdown",
   "metadata": {},
   "source": [
    "Note that this is the same result that we got above."
   ]
  },
  {
   "cell_type": "code",
   "execution_count": 9,
   "metadata": {
    "collapsed": false
   },
   "outputs": [
    {
     "name": "stdout",
     "output_type": "stream",
     "text": [
      "[ 1.8  1.6]\n",
      "[ 6.5         6.66666667]\n"
     ]
    }
   ],
   "source": [
    "print c1\n",
    "print c2"
   ]
  },
  {
   "cell_type": "markdown",
   "metadata": {},
   "source": [
    "And here are the labels that were returned along with their corresponding input points:"
   ]
  },
  {
   "cell_type": "code",
   "execution_count": 10,
   "metadata": {
    "collapsed": false
   },
   "outputs": [
    {
     "name": "stdout",
     "output_type": "stream",
     "text": [
      "Point: [1 2], Label (Group Number): 1\n",
      "Point: [1 1], Label (Group Number): 1\n",
      "Point: [5 7], Label (Group Number): 0\n",
      "Point: [8 8], Label (Group Number): 0\n",
      "Point: [8 3], Label (Group Number): 0\n",
      "Point: [3 8], Label (Group Number): 0\n",
      "Point: [3 1], Label (Group Number): 1\n",
      "Point: [2 1], Label (Group Number): 1\n",
      "Point: [2 3], Label (Group Number): 1\n",
      "Point: [7 7], Label (Group Number): 0\n",
      "Point: [8 7], Label (Group Number): 0\n"
     ]
    }
   ],
   "source": [
    "for label, point in zip(labels, data):\n",
    "    print 'Point: ' + str(point) + ', Label (Group Number): ' + str(label)"
   ]
  },
  {
   "cell_type": "markdown",
   "metadata": {},
   "source": [
    "And just to double check that we got the same groups, here are the groups from above:"
   ]
  },
  {
   "cell_type": "code",
   "execution_count": 11,
   "metadata": {
    "collapsed": false
   },
   "outputs": [
    {
     "name": "stdout",
     "output_type": "stream",
     "text": [
      "Group 1:\n",
      "[[1 2]\n",
      " [1 1]\n",
      " [3 1]\n",
      " [2 1]\n",
      " [2 3]]\n",
      "\n",
      "Group2:\n",
      "[[5 7]\n",
      " [8 8]\n",
      " [8 3]\n",
      " [3 8]\n",
      " [7 7]\n",
      " [8 7]]\n"
     ]
    }
   ],
   "source": [
    "print 'Group 1:'\n",
    "print group1\n",
    "print '\\nGroup2:'\n",
    "print group2"
   ]
  },
  {
   "cell_type": "markdown",
   "metadata": {},
   "source": [
    "That's it!"
   ]
  },
  {
   "cell_type": "markdown",
   "metadata": {},
   "source": [
    "## Limitations of K-Means Clustering\n",
    "It should be noted that despite the relatively easy grouping shown in this example, if the data is more nebulous, k-means clustering can produce different results for the same data set depending on what initial cluster centers you start with. This problem can be mitigated somewhat by running k-means multiple times with different starting clusters and then going with the average of the cluster groupings.\n",
    "\n",
    "Furthermore, k-means is useful if you know how many clusters your data should be grouped into, but if you are unsure, you might not get optimal results. For example, if you set k=2, but the data should ideally be clustered into 5 groups, you will still only get two groups.\n",
    "\n",
    "## Conclusion\n",
    "K-means clustering is a [supervised learning](https://en.wikipedia.org/wiki/Supervised_learning) algorithm that can be very useful in grouping data for analysis. It does have its limitations, however, so some understanding of whether or not it is appropriate for your data is necessary.\n",
    "\n",
    "If you have any questions or want to point out something that I should have included but didn't, let me know via GitHub:\n",
    "[https://github.com/enyeartj](https://github.com/enyeartj)"
   ]
  },
  {
   "cell_type": "markdown",
   "metadata": {},
   "source": [
    "## Bibliography\n",
    "- Matteo Matteucci: \"A Tutorial on Clustering Algorithms\"\n",
    "[http://home.deib.polimi.it/matteucc/Clustering/tutorial_html/index.html](http://home.deib.polimi.it/matteucc/Clustering/tutorial_html/index.html)\n",
    "- Wikipedia: [https://en.wikipedia.org/wiki/K-means_clustering](https://en.wikipedia.org/wiki/K-means_clustering)"
   ]
  },
  {
   "cell_type": "code",
   "execution_count": null,
   "metadata": {
    "collapsed": true
   },
   "outputs": [],
   "source": []
  }
 ],
 "metadata": {
  "kernelspec": {
   "display_name": "Python 2",
   "language": "python",
   "name": "python2"
  },
  "language_info": {
   "codemirror_mode": {
    "name": "ipython",
    "version": 2
   },
   "file_extension": ".py",
   "mimetype": "text/x-python",
   "name": "python",
   "nbconvert_exporter": "python",
   "pygments_lexer": "ipython2",
   "version": "2.7.11"
  }
 },
 "nbformat": 4,
 "nbformat_minor": 0
}
