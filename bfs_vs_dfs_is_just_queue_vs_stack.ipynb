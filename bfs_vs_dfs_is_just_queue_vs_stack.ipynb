{
 "cells": [
  {
   "cell_type": "markdown",
   "metadata": {},
   "source": [
    "When implementing breadth first search and depth first search, the *only* difference is that BFS uses a Queue where DFS uses a stack:"
   ]
  },
  {
   "cell_type": "code",
   "execution_count": 1,
   "metadata": {
    "collapsed": true
   },
   "outputs": [],
   "source": [
    "def dfs(start_node):\n",
    "    visited = set()\n",
    "    stack = [start_node]\n",
    "    while stack:\n",
    "        node = stack.pop()\n",
    "        if node not in visited:\n",
    "            visited.add(node)\n",
    "        for neighbor in node.neighbors - visited:\n",
    "            stack.append(neighbor)"
   ]
  },
  {
   "cell_type": "code",
   "execution_count": 5,
   "metadata": {
    "collapsed": true
   },
   "outputs": [],
   "source": [
    "from collections import deque # to be used in bfs"
   ]
  },
  {
   "cell_type": "code",
   "execution_count": 6,
   "metadata": {
    "collapsed": true
   },
   "outputs": [],
   "source": [
    "def bfs(start_node):\n",
    "    visited = set()\n",
    "    q = deque([start_node])\n",
    "    while q:\n",
    "        node = q.popleft()\n",
    "        if node not in visited:\n",
    "            visited.add(node)\n",
    "        for neighbor in node.neighbors - visited:\n",
    "            q.append(neighbor)"
   ]
  },
  {
   "cell_type": "markdown",
   "metadata": {
    "collapsed": true
   },
   "source": [
    "## When to use BFS vs DFS\n",
    "\n",
    "A lot of times when graph or tree traversal is necessary, either bfs or dfs can be used.\n",
    "However, there are certain cases when you may want to use one or the other.\n",
    "\n",
    "BFS can be used when you want to find the shortest path to a node. It is guaranteed to\n",
    "do this, but in doing so, it will visit every node in every level between the start and\n",
    "target, so this can make it infeasibile for applications such as a social network where\n",
    "you want to find a path between two users in a reasonable amount of time.\n",
    "\n",
    "DFS can often (not always) find a path to a node faster than BFS, but that path may not\n",
    "necessarily be the shortest path. Depending on the application, that may or may not be\n",
    "okay. DFS is also useful in applications such as when you want to find the depth of a\n",
    "tree as you would if you wanted to see if a binary tree is balanced or not."
   ]
  },
  {
   "cell_type": "code",
   "execution_count": null,
   "metadata": {
    "collapsed": true
   },
   "outputs": [],
   "source": []
  }
 ],
 "metadata": {
  "kernelspec": {
   "display_name": "Python 3",
   "language": "python",
   "name": "python3"
  },
  "language_info": {
   "codemirror_mode": {
    "name": "ipython",
    "version": 3
   },
   "file_extension": ".py",
   "mimetype": "text/x-python",
   "name": "python",
   "nbconvert_exporter": "python",
   "pygments_lexer": "ipython3",
   "version": "3.6.2"
  }
 },
 "nbformat": 4,
 "nbformat_minor": 2
}
